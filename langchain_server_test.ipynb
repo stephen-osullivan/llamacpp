{
 "cells": [
  {
   "cell_type": "code",
   "execution_count": 2,
   "metadata": {},
   "outputs": [
    {
     "name": "stdout",
     "output_type": "stream",
     "text": [
      "What a unique and intriguing request! Here's a song about goldfish on the moon:\n",
      "\n",
      "**Title:** \"Moonlit Fin\"\n",
      "\n",
      "**Verse 1:**\n",
      "In the lunar lake, where shadows play\n",
      "A school of goldfish swim, in their own way\n",
      "Their scales shimmer bright, like stars up high\n",
      "As they glide through the vacuum, with a gentle sigh\n",
      "\n",
      "**Chorus:**\n",
      "Oh, moonlit fin, you're so divine\n",
      "Dancing on the surface, all the time\n",
      "In the weightless sea, you're free to roam\n",
      "A celestial wonder, in your lunar home\n",
      "\n",
      "**Verse 2:**\n",
      "Their fins wave goodnight, as the Earth sets low\n",
      "The craters whisper secrets, only they know\n",
      "They've adapted to the moon's low gravity too\n",
      "Now they can jump and flip, with a \"whoosh\" or two\n",
      "\n",
      "**Chorus:**\n",
      "Oh, moonlit fin, you're so divine\n",
      "Dancing on the surface, all the time\n",
      "In the weightless sea, you're free to roam\n",
      "A celestial wonder, in your lunar home\n",
      "\n",
      "**Bridge:**\n",
      "Their bubbles rise, like tiny rockets high\n",
      "As they chase after food, that floats by\n",
      "No plants or coral here, just moon rocks and dust\n",
      "But these goldfish thrive, with a curious rust\n",
      "\n",
      "**Chorus:**\n",
      "Oh, moonlit fin, you're so divine\n",
      "Dancing on the surface, all the time\n",
      "In the weightless sea, you're free to roam\n",
      "A celestial wonder, in your lunar home\n",
      "\n",
      "**Outro:**\n",
      "As the moon's dark side turns, their swim slows down\n",
      "Their scales glimmering bright, like a distant crown\n",
      "The goldfish settle in, for the long night ahead\n",
      "Dreaming of the next day, when they'll glide and play instead.\n",
      "\n",
      "I hope you enjoy this song!"
     ]
    }
   ],
   "source": [
    "from langchain_openai.chat_models import ChatOpenAI\n",
    "\n",
    "llm = ChatOpenAI(temperature=0.5,\n",
    "                # model=\"models/mistral-7b-openorca.Q8_0.gguff\", \n",
    "                openai_api_base=\"http://0.0.0.0:8000/v1\", \n",
    "                openai_api_key=\"nothing\")\n",
    "\n",
    "# print(llm.predict(\"hi!\"))\n",
    "\n",
    "for chunk in llm.stream(\"Write me a song about goldfish on the moon\"):\n",
    "    print(chunk.content, end=\"\", flush=True)"
   ]
  },
  {
   "cell_type": "code",
   "execution_count": null,
   "metadata": {},
   "outputs": [],
   "source": []
  }
 ],
 "metadata": {
  "kernelspec": {
   "display_name": "cuda122",
   "language": "python",
   "name": "python3"
  },
  "language_info": {
   "codemirror_mode": {
    "name": "ipython",
    "version": 3
   },
   "file_extension": ".py",
   "mimetype": "text/x-python",
   "name": "python",
   "nbconvert_exporter": "python",
   "pygments_lexer": "ipython3",
   "version": "3.12.3"
  }
 },
 "nbformat": 4,
 "nbformat_minor": 2
}
